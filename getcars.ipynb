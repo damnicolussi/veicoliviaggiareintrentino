{
 "cells": [
  {
   "cell_type": "code",
   "execution_count": 60,
   "metadata": {},
   "outputs": [
    {
     "name": "stderr",
     "output_type": "stream",
     "text": [
      "Using cache found in /home/napo/.cache/torch/hub/ultralytics_yolov5_master\n",
      "YOLOv5 🚀 2022-2-11 torch 1.10.2+cu102 CPU\n",
      "\n",
      "Fusing layers... \n",
      "Model Summary: 213 layers, 1867405 parameters, 0 gradients\n",
      "Adding AutoShape... \n"
     ]
    }
   ],
   "source": [
    "import pandas as pd\n",
    "import requests\n",
    "import torch\n",
    "#import locale\n",
    "import warnings\n",
    "import os\n",
    "model = torch.hub.load('ultralytics/yolov5', 'yolov5n')  # or yolov5m, yolov5l, yolov5x, custom\n",
    "warnings.filterwarnings('ignore')\n",
    "#locale.setlocale(locale.LC_TIME, 'it_IT.utf8')\n",
    "webcam_json_url = 'https://vit.trilogis.it/json/webcam'\n",
    "output_data = \"data\" + os.sep + \"vehicles_on_trentino_webcams.parquet\"\n",
    "last_output_data = \"data\" + os.sep + \"last_vehicles_on_trentino_webcams.csv\""
   ]
  },
  {
   "cell_type": "code",
   "execution_count": 61,
   "metadata": {},
   "outputs": [],
   "source": [
    "webcams = pd.DataFrame(requests.get(webcam_json_url).json()['webcams']['webcam'])"
   ]
  },
  {
   "cell_type": "code",
   "execution_count": 62,
   "metadata": {},
   "outputs": [],
   "source": [
    "webcams['Id'] = webcams['Id'].astype(int)\n",
    "webcams['Cod'] = webcams['Cod'].astype(int)\n",
    "webcams['Nome'] = webcams['Nome'].astype(str)\n",
    "webcams['Direzione'] = webcams['Direzione'].astype(str)\n",
    "webcams['Url_Immagine'] = webcams['Url_Immagine'].astype(str)\n",
    "webcams['IP_Webcam'] = webcams['IP_Webcam'].astype(str)\n",
    "webcams['Km'] = webcams['Km'].astype(str)\n",
    "webcams['Strada'] = webcams['Strada'].astype(str)\n",
    "webcams['Localita'] = webcams['Localita'].astype(str)\n",
    "webcams['ZonaTN'] = webcams['ZonaTN'].astype(int)\n",
    "webcams['Lat'] = webcams['Lat'].apply(lambda x: float(x) if x!='' else 0)\n",
    "webcams['Lng'] = webcams['Lng'].apply(lambda x: float(x) if x!='' else 0)\n",
    "webcams['Monitoraggio'] = webcams['Monitoraggio'].astype(bool)\n",
    "webcams['Live'] = webcams['Live'].astype(bool)\n",
    "webcams['TS_Image'] = webcams['TS_Image'].astype(str)"
   ]
  },
  {
   "cell_type": "code",
   "execution_count": 63,
   "metadata": {},
   "outputs": [],
   "source": [
    "#rimozione webcam con webcam dismesse\n",
    "webcams = webcams[webcams['Url_Immagine'] != 'http://vit.trilogis.it/cam/webcam_outdated.jpg']"
   ]
  },
  {
   "cell_type": "code",
   "execution_count": 64,
   "metadata": {},
   "outputs": [],
   "source": [
    "def to_timestamp(x):\n",
    "    mesi = {\n",
    "        'gennaio': '01',\n",
    "        'febbraio': '02',\n",
    "        'marzo': '03',\n",
    "        'aprile': '04',\n",
    "        'maggio': '05',\n",
    "        'giugno': '06',\n",
    "        'luglio': '07',\n",
    "        'agosto': '08',\n",
    "        'settembre': '09',\n",
    "        'ottobre': '10',\n",
    "        'novembre': '11',\n",
    "        'dicembre': \"12\"\n",
    "    }\n",
    "    data = x.split(\",\")[1].split(\" \")\n",
    "    day = data[1]\n",
    "    month = mesi[data[2]]\n",
    "    year = data[3]\n",
    "    hour = data[4]\n",
    "    rtime = year + \"-\" + month + \"-\" + day + \" \" + hour + \",0\"\n",
    "    return rtime"
   ]
  },
  {
   "cell_type": "code",
   "execution_count": 65,
   "metadata": {},
   "outputs": [],
   "source": [
    "webcams['timestamp'] = webcams['TS_Image'].apply(lambda x: to_timestamp(x))\n",
    "webcams['timestamp'] = pd.to_datetime(webcams.timestamp, format='%Y-%m-%d %H:%M:%S,%f')\n",
    "vehicles = ['car','truck','bus','train','motorcycle']"
   ]
  },
  {
   "cell_type": "code",
   "execution_count": 66,
   "metadata": {},
   "outputs": [],
   "source": [
    "# 45 -> train 0.50 (è una staccionata)\n",
    "# 34 -> train 0.55 (sono in guardrail)\n",
    "# CAM65 -> auto in parcheggio (eliminare pixel?)\n",
    "# CAM100 -> auto in parcheggio (eliminare pixel?)\n",
    "# CAM111 -> auto in parcheggio (eliminare pixel?)\n",
    "# CAM125 -> auto in parcheggio (eliminare pixel?)\n",
    "# CAM126 -> auto in parcheggio (eliminare pixel?)\n",
    "ids_clean = [34]"
   ]
  },
  {
   "cell_type": "code",
   "execution_count": 67,
   "metadata": {},
   "outputs": [],
   "source": [
    "def identifyVehicles(id,indf):\n",
    "    num_vehicles = 0\n",
    "    indf = indf[indf['Id'] == id]\n",
    "    url = indf['Url_Immagine'].values[0]\n",
    "    try:\n",
    "        if (url.find(\"webcam_outdated.jpg\") == -1):\n",
    "            results = model([url])\n",
    "            #results.save(\"docs\" + os.sep + \"results\")\n",
    "            results_df = results.pandas().xyxy[0]\n",
    "            results_df = results_df[results_df['confidence'] >= 0.4]\n",
    "            results_df = results_df[results_df['name'].isin(vehicles)]\n",
    "            num_vehicles = results_df.shape[0] \n",
    "            if id in ids_clean:\n",
    "                num_vehicles = num_vehicles - 1\n",
    "                if num_vehicles < 0:\n",
    "                    num_vehicles = 0\n",
    "    except OSError as e:\n",
    "        pass\n",
    "    return(num_vehicles) #['class'].sum())"
   ]
  },
  {
   "cell_type": "code",
   "execution_count": 68,
   "metadata": {},
   "outputs": [],
   "source": [
    "webcams['veicoli'] = webcams['Id'].apply(lambda x: identifyVehicles(x,webcams))"
   ]
  },
  {
   "cell_type": "code",
   "execution_count": 69,
   "metadata": {},
   "outputs": [],
   "source": [
    "columns = {\n",
    "    'Id':'id','Cod':'codice',\"Nome\":'nome',\n",
    "    'Direzione':'direzione','Url_Immagine':'url',\n",
    "    'Attiva': 'attiva',\n",
    "    'Comune':'comune','Comunita':'comunita_valle',\n",
    "    'IP_Webcam':'ip_webcam','Km':'km','Strada':'strada',\n",
    "    'Localita':'localita','ZonaTN':'zona_tn', 'Lat':'latitudine',\n",
    "    'Lng':'longitude','Monitoraggio':'monitoraggio',\n",
    "    'Live':'live','TS_Image':'data'}"
   ]
  },
  {
   "cell_type": "code",
   "execution_count": 70,
   "metadata": {},
   "outputs": [],
   "source": [
    "webcams.rename(columns=columns, inplace=True)"
   ]
  },
  {
   "cell_type": "code",
   "execution_count": 71,
   "metadata": {},
   "outputs": [],
   "source": [
    "del webcams['data']\n",
    "del webcams['ip_webcam']\n",
    "del webcams['monitoraggio']\n",
    "del webcams['live']\n",
    "del webcams['attiva']"
   ]
  },
  {
   "cell_type": "code",
   "execution_count": 72,
   "metadata": {},
   "outputs": [],
   "source": [
    "if os.path.exists(output_data):\n",
    "    last_out = pd.read_parquet(output_data)\n",
    "    last_timestamp = last_out.timestamp.max()\n",
    "    actual_timestamp = webcams.timestamp.max().strftime(\"%Y-%m-%d %H:%M:%S\")\n",
    "    if str(last_timestamp) != str(actual_timestamp):\n",
    "        newdata = pd.concat([last_out, webcams]) \n",
    "        newdata['timestamp'] = pd.to_datetime(newdata.timestamp, format='%Y-%m-%d %H:%M:%S')\n",
    "        newdata.to_parquet(output_data, index=False)\n",
    "else:\n",
    "    webcams.to_parquet(output_data, index=False)"
   ]
  },
  {
   "cell_type": "code",
   "execution_count": 73,
   "metadata": {},
   "outputs": [
    {
     "data": {
      "text/plain": [
       "'2022-02-25 17:41:47'"
      ]
     },
     "execution_count": 73,
     "metadata": {},
     "output_type": "execute_result"
    }
   ],
   "source": [
    "webcams.timestamp.max().strftime(\"%Y-%m-%d %H:%M:%S\")"
   ]
  },
  {
   "cell_type": "code",
   "execution_count": 74,
   "metadata": {},
   "outputs": [],
   "source": [
    "webcams.to_csv(last_output_data, index=False)"
   ]
  }
 ],
 "metadata": {
  "interpreter": {
   "hash": "e7370f93d1d0cde622a1f8e1c04877d8463912d04d973331ad4851f04de6915a"
  },
  "kernelspec": {
   "display_name": "Python 3.9.7 64-bit",
   "language": "python",
   "name": "python3"
  },
  "language_info": {
   "codemirror_mode": {
    "name": "ipython",
    "version": 3
   },
   "file_extension": ".py",
   "mimetype": "text/x-python",
   "name": "python",
   "nbconvert_exporter": "python",
   "pygments_lexer": "ipython3",
   "version": "3.9.7"
  },
  "orig_nbformat": 4
 },
 "nbformat": 4,
 "nbformat_minor": 2
}
